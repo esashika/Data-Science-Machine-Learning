{
  "nbformat": 4,
  "nbformat_minor": 0,
  "metadata": {
    "colab": {
      "provenance": [],
      "authorship_tag": "ABX9TyOWkHjDGwsI6BgHKz6yaARE",
      "include_colab_link": true
    },
    "kernelspec": {
      "name": "python3",
      "display_name": "Python 3"
    },
    "language_info": {
      "name": "python"
    }
  },
  "cells": [
    {
      "cell_type": "markdown",
      "metadata": {
        "id": "view-in-github",
        "colab_type": "text"
      },
      "source": [
        "<a href=\"https://colab.research.google.com/github/esashika/Data-Science-Machine-Learning/blob/main/TF_IDF.ipynb\" target=\"_parent\"><img src=\"https://colab.research.google.com/assets/colab-badge.svg\" alt=\"Open In Colab\"/></a>"
      ]
    },
    {
      "cell_type": "markdown",
      "source": [
        "# **Esashika Academy**\n",
        "\n",
        "**Autor:** Rhedson Esashika\n",
        "\n",
        "**Linkedin:** https://www.linkedin.com/in/esashika/"
      ],
      "metadata": {
        "id": "xKtx68qSaPxi"
      }
    },
    {
      "cell_type": "markdown",
      "source": [
        "# **O que é TF-IDF?**\n",
        "\n",
        "**TF-IDF (Term Frequency - Inverse Document Frequency)** é uma técnica amplamente utilizada em **Processamento de Linguagem Natural (NLP)** para representar textos numericamente. Ele mede a **importância de um termo** dentro de um documento e em um conjunto de documentos (corpus).\n",
        "\n",
        "## Como funciona?\n",
        "**TF-IDF combina duas métricas:**\n",
        "\n",
        "1. **Term Frequency (TF)** – Mede a frequência de um termo em um documento.  \n",
        "\n",
        "2. **Inverse Document Frequency (IDF)** – Mede a raridade de um termo no corpus.  \n",
        "\n",
        "3. **TF-IDF Final**  \n",
        "\n",
        "> TF-IDF é um método poderoso e interpretável, sendo amplamente utilizado mesmo com o avanço de técnicas mais sofisticadas, como **word embeddings (Word2Vec, BERT)**."
      ],
      "metadata": {
        "id": "U0c4DHvTZSoA"
      }
    },
    {
      "cell_type": "markdown",
      "source": [
        "## **Pontos Fortes e Limitações do TF-IDF**\n",
        "\n",
        "### **Pontos Fortes**  \n",
        "✔ **Simples e eficiente** – Fácil de implementar e rápido de calcular, tornando-se uma ótima opção inicial para modelagem de texto.  \n",
        "✔ **Filtra palavras comuns** – Palavras irrelevantes (como \"o\", \"de\", \"e\") recebem pontuações baixas, melhorando a qualidade da análise.  \n",
        "✔ **Interpretação intuitiva** – Atribui peso maior a termos relevantes e menor a palavras frequentes no corpus, facilitando a análise de importância.  \n",
        "✔ **Boa base para NLP** – Utilizado em motores de busca, classificação de textos e análise de sentimentos antes do uso de modelos mais avançados.  \n",
        "\n",
        "### **Limitações**  \n",
        "**Não considera a ordem das palavras** – “O gato gosta de peixe” e “Peixe gosta do gato” terão representações similares, ignorando o contexto.  \n",
        "**Vetores esparsos** – Em vocabulários grandes, a maioria das posições da matriz será preenchida com zeros, impactando a eficiência em grandes volumes de dados.  \n",
        "**Não capta significado semântico** – Palavras com significados diferentes em contextos distintos (\"banco\" de sentar vs. \"banco\" financeiro) são tratadas como iguais.  \n",
        "**Sensível a sinônimos** – \"Carro\" e \"automóvel\" são tratados como palavras diferentes, sem capturar a relação entre elas."
      ],
      "metadata": {
        "id": "dbEs3poraiA8"
      }
    },
    {
      "cell_type": "markdown",
      "source": [
        "## **1. Implementando um TF-IDF** *na mão*."
      ],
      "metadata": {
        "id": "lGCNdqWhbdtD"
      }
    },
    {
      "cell_type": "code",
      "execution_count": 1,
      "metadata": {
        "colab": {
          "base_uri": "https://localhost:8080/"
        },
        "id": "XPs8gbkLYJmb",
        "outputId": "589c0b18-e0f3-459f-e708-497ac9fadd03"
      },
      "outputs": [
        {
          "output_type": "stream",
          "name": "stdout",
          "text": [
            "\n",
            "Termos mais relevantes no primeiro documento:\n",
            "gato: 0.1155\n",
            "animal: 0.0479\n",
            "um: 0.0479\n",
            "é: 0.0479\n",
            "doméstico: 0.0479\n"
          ]
        }
      ],
      "source": [
        "import numpy as np\n",
        "from collections import Counter\n",
        "import math\n",
        "\n",
        "class TFIDFCalculator:\n",
        "    def __init__(self):\n",
        "        self.documents = []\n",
        "        self.vocabulary = set()\n",
        "\n",
        "    def add_document(self, doc):\n",
        "        \"\"\"Adiciona um documento ao corpus\"\"\"\n",
        "        tokens = doc.lower().split()\n",
        "        self.documents.append(tokens)\n",
        "        self.vocabulary.update(tokens)\n",
        "\n",
        "    def term_frequency(self, term, doc):\n",
        "        \"\"\"Calcula a frequência do termo (TF) em um documento\"\"\"\n",
        "        count = Counter(doc)\n",
        "        return count[term] / len(doc)\n",
        "\n",
        "    def document_frequency(self, term):\n",
        "        \"\"\"Calcula em quantos documentos o termo aparece (DF)\"\"\"\n",
        "        return sum(1 for doc in self.documents if term in doc)\n",
        "\n",
        "    def inverse_document_frequency(self, term):\n",
        "        \"\"\"Calcula o IDF do termo\"\"\"\n",
        "        df = self.document_frequency(term)\n",
        "        return math.log(len(self.documents) / (df + 1))  # +1 para evitar divisão por zero\n",
        "\n",
        "    def tf_idf(self, term, doc):\n",
        "        \"\"\"Calcula o TF-IDF de um termo em um documento\"\"\"\n",
        "        return self.term_frequency(term, doc) * self.inverse_document_frequency(term)\n",
        "\n",
        "    def get_document_vector(self, doc):\n",
        "        \"\"\"Retorna o vetor TF-IDF para um documento\"\"\"\n",
        "        vector = {}\n",
        "        for term in self.vocabulary:\n",
        "            vector[term] = self.tf_idf(term, doc)\n",
        "        return vector\n",
        "\n",
        "# Exemplo de uso\n",
        "documentos = [\n",
        "    \"O gato é um animal doméstico\",\n",
        "    \"O cachorro é um animal doméstico\",\n",
        "    \"Gatos e cachorros são animais de estimação populares\",\n",
        "    \"Alguns animais são selvagens\"\n",
        "]\n",
        "\n",
        "# Criando e populando o calculador\n",
        "calculator = TFIDFCalculator()\n",
        "for doc in documentos:\n",
        "    calculator.add_document(doc)\n",
        "\n",
        "# Calculando TF-IDF para o primeiro documento\n",
        "doc_tokens = documentos[0].lower().split()\n",
        "vector = calculator.get_document_vector(doc_tokens)\n",
        "\n",
        "# Exibindo os 5 termos mais relevantes\n",
        "sorted_terms = sorted(vector.items(), key=lambda x: x[1], reverse=True)[:5]\n",
        "print(\"\\nTermos mais relevantes no primeiro documento:\")\n",
        "for term, score in sorted_terms:\n",
        "    print(f\"{term}: {score:.4f}\")"
      ]
    },
    {
      "cell_type": "markdown",
      "source": [
        "# **2. Exemplo usando a biblioteca scikit-learn, que é muito utilizada na prática.**\n",
        "\n",
        "## Principais vantagens de usar o scikit-learn:\n",
        "\n",
        "1. Facilidade de uso:\n",
        "   - Poucas linhas de código para implementar\n",
        "   - Interface consistente com outros algoritmos do scikit-learn\n",
        "   - Integração fácil com pipelines de machine learning\n",
        "\n",
        "2. Recursos avançados:\n",
        "   - Manipulação eficiente de matriz esparsa\n",
        "   - Normalização automática dos vetores\n",
        "   - Várias opções de pré-processamento\n",
        "   - Alta performance com grandes volumes de dados\n",
        "\n",
        "3. Parâmetros importantes do TfidfVectorizer:\n",
        "   ```python\n",
        "   TfidfVectorizer(\n",
        "       min_df=1,              # Ignora termos que aparecem em menos documentos que min_df\n",
        "       max_df=1.0,           # Ignora termos que aparecem em mais % de documentos que max_df\n",
        "       ngram_range=(1, 1),   # Range de n-gramas a considerar\n",
        "       stop_words=None,      # Lista de stop words ou None\n",
        "       norm='l2',            # Tipo de normalização\n",
        "       smooth_idf=True,      # Adiciona 1 ao df para evitar divisão por zero\n",
        "       sublinear_tf=False    # Aplica 1 + log(tf) em vez de tf\n",
        "   )\n",
        "   ```\n",
        "\n",
        "4. Diferenças principais da implementação manual:\n",
        "   - Usa matrizes esparsas para eficiência\n",
        "   - Implementa normalização por padrão\n",
        "   - Oferece mais opções de pré-processamento\n",
        "   - Mais rápido e otimizado para grandes volumes de dados\n",
        "\n",
        "Você pode usar ambas as implementações na aula para mostrar tanto o funcionamento interno do algoritmo (com a implementação manual) quanto a forma prática de uso em projetos reais (com scikit-learn). Gostaria que eu expandisse algum aspecto específico?"
      ],
      "metadata": {
        "id": "NSMe7yWlb9Jp"
      }
    },
    {
      "cell_type": "code",
      "source": [
        "from sklearn.feature_extraction.text import TfidfVectorizer\n",
        "import pandas as pd\n",
        "import numpy as np\n",
        "\n",
        "# Corpus de exemplo\n",
        "documentos = [\n",
        "    \"O gato é um animal doméstico\",\n",
        "    \"O cachorro é um animal doméstico\",\n",
        "    \"Gatos e cachorros são animais de estimação populares\",\n",
        "    \"Alguns animais são selvagens\"\n",
        "]\n",
        "\n",
        "# Criando e treinando o vetorizador\n",
        "vectorizer = TfidfVectorizer(\n",
        "    min_df=1,              # Frequência mínima do termo\n",
        "    lowercase=True,        # Converter para minúsculas\n",
        "    strip_accents='ascii', # Remover acentos\n",
        "    stop_words=None,       # Não remover stopwords\n",
        "    norm='l2'             # Normalização dos vetores\n",
        ")\n",
        "\n",
        "# Transformando os documentos em matriz TF-IDF\n",
        "matriz_tfidf = vectorizer.fit_transform(documentos)\n",
        "\n",
        "# Obtendo o vocabulário\n",
        "vocabulario = vectorizer.get_feature_names_out()\n",
        "\n",
        "# Convertendo a matriz esparsa para um DataFrame para melhor visualização\n",
        "df_tfidf = pd.DataFrame(\n",
        "    matriz_tfidf.toarray(),\n",
        "    columns=vocabulario,\n",
        "    index=['Doc 1', 'Doc 2', 'Doc 3', 'Doc 4']\n",
        ")\n",
        "\n",
        "# Exibindo os resultados\n",
        "print(\"Dimensões da matriz TF-IDF:\", matriz_tfidf.shape)\n",
        "print(\"\\nVocabulário completo:\", vocabulario)\n",
        "print(\"\\nMatriz TF-IDF:\")\n",
        "print(df_tfidf)\n",
        "\n",
        "# Exemplo de análise: encontrando as palavras mais importantes em cada documento\n",
        "for i, doc_name in enumerate(['Doc 1', 'Doc 2', 'Doc 3', 'Doc 4']):\n",
        "    # Pegando os índices ordenados dos valores TF-IDF\n",
        "    tfidf_ordenado = np.argsort(matriz_tfidf[i].toarray()[0])[::-1]\n",
        "\n",
        "    # Pegando as 3 palavras mais importantes\n",
        "    palavras_importantes = [vocabulario[idx] for idx in tfidf_ordenado[:3]]\n",
        "    valores_tfidf = [matriz_tfidf[i].toarray()[0][idx] for idx in tfidf_ordenado[:3]]\n",
        "\n",
        "    print(f\"\\nPalavras mais importantes em {doc_name}:\")\n",
        "    for palavra, valor in zip(palavras_importantes, valores_tfidf):\n",
        "        print(f\"{palavra}: {valor:.4f}\")\n",
        "\n",
        "# Exemplo de como usar para um novo documento\n",
        "novo_documento = [\"O gato branco é um animal muito bonito\"]\n",
        "vetor_novo = vectorizer.transform(novo_documento)\n",
        "\n",
        "print(\"\\nTF-IDF para novo documento:\")\n",
        "df_novo = pd.DataFrame(\n",
        "    vetor_novo.toarray(),\n",
        "    columns=vocabulario,\n",
        "    index=['Novo Doc']\n",
        ")\n",
        "print(df_novo)"
      ],
      "metadata": {
        "colab": {
          "base_uri": "https://localhost:8080/"
        },
        "id": "_8-pSVDVcLs7",
        "outputId": "a93c4586-8f60-4fa3-c414-6f884474bcad"
      },
      "execution_count": 2,
      "outputs": [
        {
          "output_type": "stream",
          "name": "stdout",
          "text": [
            "Dimensões da matriz TF-IDF: (4, 14)\n",
            "\n",
            "Vocabulário completo: ['alguns' 'animais' 'animal' 'cachorro' 'cachorros' 'de' 'domestico'\n",
            " 'estimacao' 'gato' 'gatos' 'populares' 'sao' 'selvagens' 'um']\n",
            "\n",
            "Matriz TF-IDF:\n",
            "         alguns   animais    animal  cachorro  cachorros        de  domestico  \\\n",
            "Doc 1  0.000000  0.000000  0.465809  0.000000   0.000000  0.000000   0.465809   \n",
            "Doc 2  0.000000  0.000000  0.465809  0.590819   0.000000  0.000000   0.465809   \n",
            "Doc 3  0.000000  0.315537  0.000000  0.000000   0.400218  0.400218   0.000000   \n",
            "Doc 4  0.555283  0.437791  0.000000  0.000000   0.000000  0.000000   0.000000   \n",
            "\n",
            "       estimacao      gato     gatos  populares       sao  selvagens        um  \n",
            "Doc 1   0.000000  0.590819  0.000000   0.000000  0.000000   0.000000  0.465809  \n",
            "Doc 2   0.000000  0.000000  0.000000   0.000000  0.000000   0.000000  0.465809  \n",
            "Doc 3   0.400218  0.000000  0.400218   0.400218  0.315537   0.000000  0.000000  \n",
            "Doc 4   0.000000  0.000000  0.000000   0.000000  0.437791   0.555283  0.000000  \n",
            "\n",
            "Palavras mais importantes em Doc 1:\n",
            "gato: 0.5908\n",
            "um: 0.4658\n",
            "domestico: 0.4658\n",
            "\n",
            "Palavras mais importantes em Doc 2:\n",
            "cachorro: 0.5908\n",
            "um: 0.4658\n",
            "domestico: 0.4658\n",
            "\n",
            "Palavras mais importantes em Doc 3:\n",
            "populares: 0.4002\n",
            "gatos: 0.4002\n",
            "estimacao: 0.4002\n",
            "\n",
            "Palavras mais importantes em Doc 4:\n",
            "selvagens: 0.5553\n",
            "alguns: 0.5553\n",
            "sao: 0.4378\n",
            "\n",
            "TF-IDF para novo documento:\n",
            "          alguns  animais    animal  cachorro  cachorros   de  domestico  \\\n",
            "Novo Doc     0.0      0.0  0.526405       0.0        0.0  0.0        0.0   \n",
            "\n",
            "          estimacao      gato  gatos  populares  sao  selvagens        um  \n",
            "Novo Doc        0.0  0.667679    0.0        0.0  0.0        0.0  0.526405  \n"
          ]
        }
      ]
    },
    {
      "cell_type": "code",
      "source": [],
      "metadata": {
        "id": "E9aS_6iKcfkt"
      },
      "execution_count": null,
      "outputs": []
    }
  ]
}