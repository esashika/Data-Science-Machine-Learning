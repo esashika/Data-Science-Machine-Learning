{
  "nbformat": 4,
  "nbformat_minor": 0,
  "metadata": {
    "colab": {
      "provenance": [],
      "authorship_tag": "ABX9TyNIATe9JDNInb23nbzbMZvx",
      "include_colab_link": true
    },
    "kernelspec": {
      "name": "python3",
      "display_name": "Python 3"
    },
    "language_info": {
      "name": "python"
    }
  },
  "cells": [
    {
      "cell_type": "markdown",
      "metadata": {
        "id": "view-in-github",
        "colab_type": "text"
      },
      "source": [
        "<a href=\"https://colab.research.google.com/github/esashika/Data-Science-Machine-Learning/blob/main/NLP_BOW.ipynb\" target=\"_parent\"><img src=\"https://colab.research.google.com/assets/colab-badge.svg\" alt=\"Open In Colab\"/></a>"
      ]
    },
    {
      "cell_type": "markdown",
      "source": [
        "A ideia do **Bag of Words** é transformar um texto em uma coleção (“bag”) de palavras, sem levar em conta a ordem em que as palavras aparecem ou a estrutura gramatical das frases.\n",
        "\n",
        "Em outras palavras, o modelo não se importa se a frase é *“O gato dorme na cama”* ou *“Na cama, o gato dorme”*; o que interessa é apenas quais palavras existem e com que frequência elas aparecem.\n",
        "\n"
      ],
      "metadata": {
        "id": "_80oxmq4uJH8"
      }
    },
    {
      "cell_type": "code",
      "execution_count": 3,
      "metadata": {
        "colab": {
          "base_uri": "https://localhost:8080/"
        },
        "id": "zJ6JTRuioY6Q",
        "outputId": "93a58069-f65c-44a4-9716-723340948b49"
      },
      "outputs": [
        {
          "output_type": "stream",
          "name": "stderr",
          "text": [
            "[nltk_data] Downloading package punkt to /root/nltk_data...\n",
            "[nltk_data]   Package punkt is already up-to-date!\n",
            "[nltk_data] Downloading package punkt_tab to /root/nltk_data...\n",
            "[nltk_data]   Package punkt_tab is already up-to-date!\n",
            "[nltk_data] Downloading package stopwords to /root/nltk_data...\n",
            "[nltk_data]   Package stopwords is already up-to-date!\n"
          ]
        }
      ],
      "source": [
        "import nltk\n",
        "from nltk.corpus import stopwords\n",
        "from nltk.tokenize import word_tokenize\n",
        "\n",
        "# Download stopwords and tokenizer if you haven't already\n",
        "nltk.download(\"punkt\")\n",
        "nltk.download('punkt_tab')\n",
        "nltk.download(\"stopwords\")\n",
        "\n",
        "# Example sentence\n",
        "sentence = \"This is an example showing how to remove stop words from a sentence.\"\n",
        "\n",
        "# Tokenize the sentence into words\n",
        "words = word_tokenize(sentence)\n",
        "\n",
        "# Get the list of stop words in English\n",
        "stop_words = set(stopwords.words(\"english\"))\n",
        "\n",
        "# Remove stop words from the sentence\n",
        "filtered_sentence = [word for word in words if word.lower() not in stop_words]\n",
        "\n",
        "# Join the words back into a sentence\n",
        "filtered_sentence = \" \".join(filtered_sentence)"
      ]
    },
    {
      "cell_type": "code",
      "source": [
        "print(filtered_sentence)"
      ],
      "metadata": {
        "colab": {
          "base_uri": "https://localhost:8080/"
        },
        "id": "HWyMNRsQo4SK",
        "outputId": "883b93a2-05e3-4885-89a5-128d92af96cf"
      },
      "execution_count": 4,
      "outputs": [
        {
          "output_type": "stream",
          "name": "stdout",
          "text": [
            "example showing remove stop words sentence .\n"
          ]
        }
      ]
    },
    {
      "cell_type": "markdown",
      "source": [
        "## **Fazendo na Mão**"
      ],
      "metadata": {
        "id": "MqsKfBxdrhTE"
      }
    },
    {
      "cell_type": "markdown",
      "source": [
        "## **Step 1:** Preprocessing the Text Data"
      ],
      "metadata": {
        "id": "r-dDXffPpc7t"
      }
    },
    {
      "cell_type": "code",
      "source": [
        "from collections import defaultdict\n",
        "import string\n",
        "\n",
        "# Sample text data: sentences\n",
        "corpus = [\n",
        "    \"Python is amazing and fun.\",\n",
        "    \"Python is not just fun but also powerful.\",\n",
        "    \"Learning Python is fun!\",\n",
        "]\n",
        "# Function to preprocess text\n",
        "def preprocess(text):\n",
        "    # Convert to lowercase\n",
        "    text = text.lower()\n",
        "    # Remove punctuation\n",
        "    text = text.translate(str.maketrans(\"\", \"\", string.punctuation))\n",
        "    # Tokenize: split the text into words\n",
        "    tokens = text.split()\n",
        "    return tokens\n",
        "\n",
        "# Apply preprocessing to the sample corpus\n",
        "processed_corpus = [preprocess(sentence) for sentence in corpus]\n",
        "print(processed_corpus)"
      ],
      "metadata": {
        "colab": {
          "base_uri": "https://localhost:8080/"
        },
        "id": "EkkXRIO3pjTc",
        "outputId": "253bb039-784f-4be9-bbb8-aa6f7e3d2c76"
      },
      "execution_count": 5,
      "outputs": [
        {
          "output_type": "stream",
          "name": "stdout",
          "text": [
            "[['python', 'is', 'amazing', 'and', 'fun'], ['python', 'is', 'not', 'just', 'fun', 'but', 'also', 'powerful'], ['learning', 'python', 'is', 'fun']]\n"
          ]
        }
      ]
    },
    {
      "cell_type": "markdown",
      "source": [
        "# **Step 2:** Build Vocabulary"
      ],
      "metadata": {
        "id": "IEaUC2S_pw--"
      }
    },
    {
      "cell_type": "code",
      "source": [
        "# Initialize an empty set for the vocabulary\n",
        "vocabulary = set()\n",
        "\n",
        "# Build the vocabulary\n",
        "for sentence in processed_corpus:\n",
        "    vocabulary.update(sentence)\n",
        "\n",
        "# Convert to a sorted list\n",
        "vocabulary = sorted(list(vocabulary))\n",
        "print(\"Vocabulary:\", vocabulary)"
      ],
      "metadata": {
        "colab": {
          "base_uri": "https://localhost:8080/"
        },
        "id": "8EGzz1yyp0DM",
        "outputId": "756d7846-7d1b-499e-9b82-a8d152f4db41"
      },
      "execution_count": 6,
      "outputs": [
        {
          "output_type": "stream",
          "name": "stdout",
          "text": [
            "Vocabulary: ['also', 'amazing', 'and', 'but', 'fun', 'is', 'just', 'learning', 'not', 'powerful', 'python']\n"
          ]
        }
      ]
    },
    {
      "cell_type": "markdown",
      "source": [
        "# **Step 3:** Calculate Word Frequencies and Vectorize"
      ],
      "metadata": {
        "id": "f38Yn2wqqBMO"
      }
    },
    {
      "cell_type": "code",
      "source": [
        "def create_bow_vector(sentence, vocab):\n",
        "    vector = [0] * len(vocab)  # Initialize a vector of zeros\n",
        "    for word in sentence:\n",
        "        if word in vocab:\n",
        "            idx = vocab.index(word)  # Find the index of the word in the vocabulary\n",
        "            vector[idx] += 1  # Increment the count at that index\n",
        "    return vector\n",
        "\n",
        "\n",
        "# Create BoW vector for each sentence in the processed corpus\n",
        "bow_vectors = [create_bow_vector(sentence, vocabulary) for sentence in processed_corpus]\n",
        "print(\"Bag of Words Vectors:\")\n",
        "for vector in bow_vectors:\n",
        "    print(vector)"
      ],
      "metadata": {
        "colab": {
          "base_uri": "https://localhost:8080/"
        },
        "id": "ELW51WSCqHr-",
        "outputId": "c76588c2-0194-44a5-8b65-010b6a46a4e5"
      },
      "execution_count": 7,
      "outputs": [
        {
          "output_type": "stream",
          "name": "stdout",
          "text": [
            "Bag of Words Vectors:\n",
            "[0, 1, 1, 0, 1, 1, 0, 0, 0, 0, 1]\n",
            "[1, 0, 0, 1, 1, 1, 1, 0, 1, 1, 1]\n",
            "[0, 0, 0, 0, 1, 1, 0, 1, 0, 0, 1]\n"
          ]
        }
      ]
    },
    {
      "cell_type": "markdown",
      "source": [
        "# Using Scikit-learn’s CountVectorizer"
      ],
      "metadata": {
        "id": "GyPQsVoesDIF"
      }
    },
    {
      "cell_type": "code",
      "source": [
        "from sklearn.feature_extraction.text import CountVectorizer\n",
        "\n",
        "# Original corpus\n",
        "corpus = [\n",
        "    \"Python is amazing and fun.\",\n",
        "    \"Python is not just fun but also powerful.\",\n",
        "    \"Learning Python is fun!\",\n",
        "]\n",
        "# O objeto CountVectorizer será usado para transformar o texto em uma matriz de contagens de palavras.\n",
        "vectorizer = CountVectorizer()\n",
        "\n",
        "# O método .fit_transform() aprende o vocabulário do corpus e transforma os\n",
        "# textos em uma matriz esparsa (matriz que tem muitos elementos com valor zero,\n",
        "# ou seja, que é composta principalmente por zeros), onde cada linha representa\n",
        "# um documento e cada coluna representa uma palavra única do vocabulário.\n",
        "X = vectorizer.fit_transform(corpus)\n",
        "\n",
        "# get_feature_names_out() -> retorna a lista de palavras únicas que foram extraídas do corpus.\n",
        "print(\"Vocabulary:\", vectorizer.get_feature_names_out())\n",
        "\n",
        "# X.toarray() converte a matriz esparsa em um array NumPy, permitindo visualizá-la como uma matriz comum.\n",
        "print(\"BoW Representation:\")\n",
        "print(X.toarray())"
      ],
      "metadata": {
        "colab": {
          "base_uri": "https://localhost:8080/"
        },
        "id": "sSC_XkLEr23G",
        "outputId": "e053f97d-a6ac-4326-f426-84b97af494ba"
      },
      "execution_count": 8,
      "outputs": [
        {
          "output_type": "stream",
          "name": "stdout",
          "text": [
            "Vocabulary: ['also' 'amazing' 'and' 'but' 'fun' 'is' 'just' 'learning' 'not'\n",
            " 'powerful' 'python']\n",
            "BoW Representation:\n",
            "[[0 1 1 0 1 1 0 0 0 0 1]\n",
            " [1 0 0 1 1 1 1 0 1 1 1]\n",
            " [0 0 0 0 1 1 0 1 0 0 1]]\n"
          ]
        }
      ]
    },
    {
      "cell_type": "code",
      "source": [
        "from sklearn.feature_extraction.text import CountVectorizer\n",
        "# Sample corpus of movie reviews\n",
        "corpus = [\n",
        "    \"I loved the movie, it was fantastic!\",\n",
        "    \"The movie was okay, but not great.\",\n",
        "    \"I hated the movie, it was terrible.\",\n",
        "]\n",
        "\n",
        "# Initialize the CountVectorizer\n",
        "vectorizer = CountVectorizer()\n",
        "\n",
        "# Fit and transform the corpus to a document-term matrix\n",
        "X = vectorizer.fit_transform(corpus)\n",
        "\n",
        "# Convert the document-term matrix into a dense format (optional for visualization)\n",
        "X_dense = X.toarray()\n",
        "\n",
        "# Get the vocabulary (mapping of words to index positions)\n",
        "vocab = vectorizer.get_feature_names_out()\n",
        "\n",
        "# Print the vocabulary and document-term matrix\n",
        "print(\"Vocabulary:\", vocab)\n",
        "print(\"Document-Term Matrix:\\n\", X_dense)"
      ],
      "metadata": {
        "colab": {
          "base_uri": "https://localhost:8080/"
        },
        "id": "BEDBCImytkAz",
        "outputId": "c960e0b7-afed-4d9d-d02c-73e53e994a5e"
      },
      "execution_count": 9,
      "outputs": [
        {
          "output_type": "stream",
          "name": "stdout",
          "text": [
            "Vocabulary: ['but' 'fantastic' 'great' 'hated' 'it' 'loved' 'movie' 'not' 'okay'\n",
            " 'terrible' 'the' 'was']\n",
            "Document-Term Matrix:\n",
            " [[0 1 0 0 1 1 1 0 0 0 1 1]\n",
            " [1 0 1 0 0 0 1 1 1 0 1 1]\n",
            " [0 0 0 1 1 0 1 0 0 1 1 1]]\n"
          ]
        }
      ]
    },
    {
      "cell_type": "markdown",
      "source": [],
      "metadata": {
        "id": "BFZVXhH1uICs"
      }
    }
  ]
}